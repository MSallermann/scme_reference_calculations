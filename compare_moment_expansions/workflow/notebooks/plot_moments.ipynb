{
 "cells": [
  {
   "cell_type": "code",
   "execution_count": null,
   "metadata": {},
   "outputs": [],
   "source": [
    "import pandas as pd\n",
    "import matplotlib.pyplot as plt\n",
    "\n",
    "df = pd.read_csv(\n",
    "    \"/home/moritz/SCME/scme_reference_calculations/compare_moment_expansions/results/aggregated.csv\"\n",
    ")\n",
    "df"
   ]
  },
  {
   "cell_type": "code",
   "execution_count": null,
   "metadata": {},
   "outputs": [],
   "source": [
    "ax = plt.gca()\n",
    "x = range(len(df))\n",
    "ax.plot( x, df[\"max_diff\"], marker=\".\", ls=\"None\" , label=\"max_diff\")\n",
    "ax.plot( x, df[\"mean_diff\"], marker=\".\", ls=\"None\" , label=\"mean_diff\")\n",
    "\n",
    "ax.set_xticks( x )\n",
    "ax.set_xticklabels( [ f.split(\"/\")[1] + \"_\" + f.split(\"/\")[2] for f in df[\"file\"]], rotation=90 )\n",
    "ax.set_yscale(\"log\")\n",
    "plt.legend()\n",
    "plt.tight_layout()\n",
    "plt.savefig(\"moment_expansions.png\", dpi=300)"
   ]
  }
 ],
 "metadata": {
  "kernelspec": {
   "display_name": "Python 3",
   "language": "python",
   "name": "python3"
  },
  "language_info": {
   "codemirror_mode": {
    "name": "ipython",
    "version": 3
   },
   "file_extension": ".py",
   "mimetype": "text/x-python",
   "name": "python",
   "nbconvert_exporter": "python",
   "pygments_lexer": "ipython3",
   "version": "3.13.0"
  }
 },
 "nbformat": 4,
 "nbformat_minor": 2
}
