{
 "cells": [
  {
   "cell_type": "code",
   "execution_count": null,
   "metadata": {},
   "outputs": [],
   "source": [
    "import matplotlib.pyplot as plt\n",
    "import pandas as pd\n",
    "import numpy as np\n",
    "from ase.units import Bohr\n",
    "from pathlib import Path"
   ]
  },
  {
   "cell_type": "code",
   "execution_count": null,
   "metadata": {},
   "outputs": [],
   "source": [
    "scme_truth = pd.read_json(\n",
    "    \"/home/moritz/SCME/scme_reference_calculations/compare_against_fortran_code/results/monomer/scme_truth.json\"\n",
    ")\n",
    "results = pd.read_json(\n",
    "    \"/home/moritz/SCME/scme_reference_calculations/compare_against_fortran_code/results/monomer/results.json\"\n",
    ")\n",
    "results_old = pd.read_json(\n",
    "    \"/home/moritz/SCME/scme_reference_calculations/compare_against_fortran_code/results/monomer_old/results.json\"\n",
    ")\n",
    "\n",
    "plot_dir = Path(\"./plots/monomer\")\n",
    "plot_dir.mkdir(exist_ok=True, parents=True)"
   ]
  },
  {
   "cell_type": "code",
   "execution_count": null,
   "metadata": {},
   "outputs": [],
   "source": [
    "ax = plt.gca()\n",
    "ax.plot(scme_truth[\"sample\"], scme_truth[\"energy\"], marker=\"o\", ms=9, label=\"fortran\")\n",
    "ax.plot(\n",
    "    results_old[\"sample\"],\n",
    "    results_old[\"energy_tot\"],\n",
    "    ls=\"None\",\n",
    "    marker=\"s\",\n",
    "    label=\"old_cpp\",\n",
    ")\n",
    "std = np.std(results[\"energy_tot\"] - scme_truth[\"energy\"])\n",
    "print(f\"{std = }\")\n",
    "\n",
    "ax.set_title(\"Monomer energy.\")\n",
    "ax.plot(results[\"sample\"], results[\"energy_tot\"], ls=\"None\", marker=\".\", label=\"moritz\")\n",
    "ax.set_xlabel(\"sample\")\n",
    "ax.set_ylabel(\"energy [eV]\")\n",
    "ax.legend()\n",
    "plt.tight_layout()\n",
    "plt.savefig(plot_dir / \"monomer_energy.png\", dpi=300)\n",
    "plt.show()\n",
    "plt.close()"
   ]
  },
  {
   "cell_type": "code",
   "execution_count": null,
   "metadata": {},
   "outputs": [],
   "source": [
    "for comp in [0, 1, 2]:\n",
    "    ax = plt.gca()\n",
    "    ax.set_title(f\"Dipole moment component {comp+1}\")\n",
    "\n",
    "    d_truth = np.array([d[0][comp] for d in scme_truth[\"dipole\"]])\n",
    "    d_res = [d[comp] for d in results[\"dipole\"]]\n",
    "    d_res_old = [d[comp] / Bohr for d in results_old[\"dipole\"]]\n",
    "\n",
    "    std = np.std(d_truth - d_res)\n",
    "    print(f\"{std = }\")\n",
    "\n",
    "    ax.plot(\n",
    "        scme_truth[\"sample\"],\n",
    "        d_truth,\n",
    "        marker=\"o\",\n",
    "        ms=9,\n",
    "        label=\"fortran\",\n",
    "    )\n",
    "    ax.plot(\n",
    "        results_old[\"sample\"],\n",
    "        d_res,\n",
    "        marker=\"s\",\n",
    "        label=\"old_cpp\",\n",
    "    )\n",
    "    ax.plot(\n",
    "        results[\"sample\"],\n",
    "        d_res_old,\n",
    "        marker=\".\",\n",
    "        label=\"moritz\",\n",
    "    )\n",
    "    ax.set_ylabel(r\"$\\mu_{\" + str(comp + 1) + \"}~[e a_0]$\")\n",
    "    ax.set_xlabel(\"sample\")\n",
    "    plt.legend()\n",
    "    plt.tight_layout()\n",
    "    plt.savefig(plot_dir / f\"dms_component_{comp}.png\", dpi=300)\n",
    "    plt.show()\n",
    "    plt.close()"
   ]
  },
  {
   "cell_type": "code",
   "execution_count": null,
   "metadata": {},
   "outputs": [],
   "source": [
    "np.array([ d[2] for d in results_old[\"dipole\"]]) / np.array([ d[2] for d in results[\"dipole\"]]) "
   ]
  },
  {
   "cell_type": "code",
   "execution_count": null,
   "metadata": {},
   "outputs": [],
   "source": [
    "np.array([ d[0] for d in results_old[\"dipole\"]]) / np.array([ d[0][0] for d in scme_truth[\"dipole\"]]) \n"
   ]
  },
  {
   "cell_type": "code",
   "execution_count": null,
   "metadata": {},
   "outputs": [],
   "source": [
    "for comp1 in [0, 1, 2]:\n",
    "    for comp2 in [0, 1, 2]:\n",
    "        ax = plt.gca()\n",
    "        ax.set_title(f\"Quadrupole moment component {comp1+1} {comp2+1}\")\n",
    "\n",
    "        q_truth = np.array([q[0][comp1][comp2] for q in scme_truth[\"quadrupole\"]])\n",
    "\n",
    "        q_res_old = np.array(\n",
    "            [q[comp1][comp2] / Bohr**2 for q in results_old[\"quadrupole\"]]\n",
    "        )\n",
    "        q_res = np.array([q[comp1][comp2] for q in results[\"quadrupole\"]])\n",
    "\n",
    "        std = np.std(q_truth - q_res)\n",
    "        print(f\"{std = }\")\n",
    "\n",
    "        ax.plot(\n",
    "            scme_truth[\"sample\"],\n",
    "            q_truth,\n",
    "            marker=\"o\",\n",
    "            ms=9,\n",
    "            label=\"fortran\",\n",
    "        )\n",
    "        ax.plot(\n",
    "            results_old[\"sample\"],\n",
    "            q_res_old,\n",
    "            marker=\"s\",\n",
    "            label=\"old_cpp\",\n",
    "        )\n",
    "        ax.plot(\n",
    "            results[\"sample\"],\n",
    "            q_res,\n",
    "            marker=\".\",\n",
    "            label=\"moritz\",\n",
    "        )\n",
    "        ax.set_ylabel(r\"$\\theta_{\" + str(comp1 + 1) + str(comp2 + 1) + \"}~[e a_0^2]$\")\n",
    "        ax.set_xlabel(\"sample\")\n",
    "        plt.legend()\n",
    "        plt.tight_layout()\n",
    "        plt.savefig(plot_dir / f\"qms_component_{comp1}_{comp2}.png\", dpi=300)\n",
    "        plt.show()\n",
    "        plt.close()"
   ]
  }
 ],
 "metadata": {
  "kernelspec": {
   "display_name": "Python 3",
   "language": "python",
   "name": "python3"
  },
  "language_info": {
   "codemirror_mode": {
    "name": "ipython",
    "version": 3
   },
   "file_extension": ".py",
   "mimetype": "text/x-python",
   "name": "python",
   "nbconvert_exporter": "python",
   "pygments_lexer": "ipython3",
   "version": "3.13.0"
  }
 },
 "nbformat": 4,
 "nbformat_minor": 2
}
