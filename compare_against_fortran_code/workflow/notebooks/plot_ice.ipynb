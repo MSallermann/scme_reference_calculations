{
 "cells": [
  {
   "cell_type": "code",
   "execution_count": null,
   "metadata": {},
   "outputs": [],
   "source": [
    "import matplotlib.pyplot as plt\n",
    "import pandas as pd\n",
    "import numpy as np\n",
    "from ase.units import Bohr\n",
    "from pathlib import Path"
   ]
  },
  {
   "cell_type": "code",
   "execution_count": null,
   "metadata": {},
   "outputs": [],
   "source": [
    "results_folder = Path(\"/home/moritz/SCME/scme_reference_calculations/compare_against_fortran_code/results/ice\")\n",
    "\n",
    "scme_truth = pd.read_json(\n",
    "    results_folder / \"scme_truth.json\"\n",
    ")\n",
    "results = pd.read_json(\n",
    "    results_folder / \"results.json\"\n",
    ")\n",
    "\n",
    "plot_dir = Path(\"./plots/ice\")\n",
    "plot_dir.mkdir(exist_ok=True, parents=True)"
   ]
  },
  {
   "cell_type": "markdown",
   "metadata": {},
   "source": [
    "# Collect individual moments"
   ]
  },
  {
   "cell_type": "code",
   "execution_count": null,
   "metadata": {},
   "outputs": [],
   "source": [
    "dipoles = []\n",
    "quadrupoles = []\n",
    "samples = []\n",
    "for p in results_folder.glob(\"[0-9]*\"):\n",
    "    sample = int(p.name)\n",
    "    d = np.load(p / \"dipoles.npy\")\n",
    "    q = np.load(p / \"quadrupoles.npy\")\n",
    "    dipoles.append(d)\n",
    "    quadrupoles.append(q)\n",
    "    samples.append(sample)\n",
    "\n",
    "dipoles = np.array(dipoles)\n",
    "quadrupoles = np.array(quadrupoles)\n",
    "\n",
    "dipoles = dipoles[np.argsort(samples)]\n",
    "quadrupoles = quadrupoles[np.argsort(samples)]"
   ]
  },
  {
   "cell_type": "code",
   "execution_count": null,
   "metadata": {},
   "outputs": [],
   "source": [
    "n_water = 16\n",
    "\n",
    "for comp in [0, 1, 2]:\n",
    "    ax = plt.gca()\n",
    "    ax.set_title(f\"Dipole moments component {comp+1}\")\n",
    "\n",
    "    d = scme_truth[\"dipole\"][0]\n",
    "    d_truth = np.array([d[i_atom][comp] for i_atom in range(n_water)])\n",
    "    d_res = dipoles[0, :n_water, comp]\n",
    "\n",
    "    ax.plot(range(n_water), d_truth, marker=\"o\", ms=9, label=\"fortran\", color=\"C0\")\n",
    "\n",
    "    ax.plot(range(n_water), d_res, marker=\".\", label=\"moritz\", color=\"C2\")\n",
    "\n",
    "    ax.set_ylabel(r\"$\\mu_{\" + str(comp + 1) + \"}~[e a_0]$\")\n",
    "    ax.set_xlabel(\"idx_molecule\")\n",
    "    plt.legend()\n",
    "    plt.tight_layout()\n",
    "    plt.savefig(plot_dir / f\"dms_component_{comp}.png\", dpi=300)\n",
    "    plt.show()\n",
    "    plt.close()"
   ]
  },
  {
   "cell_type": "code",
   "execution_count": null,
   "metadata": {},
   "outputs": [],
   "source": [
    "\n",
    "for comp1 in [0, 1, 2]:\n",
    "    for comp2 in [0, 1, 2]:\n",
    "\n",
    "        ax = plt.gca()\n",
    "        ax.set_title(f\"Quadrupole moments component {comp1+1} {comp2+1}\")\n",
    "\n",
    "        q = scme_truth[\"quadrupole\"][0]\n",
    "        q_truth = np.array([q[i_atom][comp1][comp2] for i_atom in range(n_water)])\n",
    "        q_res = quadrupoles[0, :n_water, comp1, comp2]\n",
    "\n",
    "        print(d_truth.shape)\n",
    "        print(d_res.shape)\n",
    "\n",
    "\n",
    "        ax.plot(\n",
    "            range(n_water), q_truth, marker=\"o\", ms=9, label=\"fortran\", color=\"C0\"\n",
    "        )\n",
    "\n",
    "        ax.plot(range(n_water), q_res, marker=\".\", label=\"moritz\", color=\"C2\")\n",
    "\n",
    "        ax.set_ylabel(r\"$\\mu_{\" + str(comp + 1) + \"}~[e a_0]$\")\n",
    "        ax.set_xlabel(\"idx_molecule\")\n",
    "        plt.legend()\n",
    "        plt.tight_layout()\n",
    "        plt.savefig(plot_dir / f\"qms_component_{comp1}_{comp2}.png\", dpi=300)\n",
    "        plt.show()\n",
    "        plt.close()"
   ]
  }
 ],
 "metadata": {
  "kernelspec": {
   "display_name": "Python 3",
   "language": "python",
   "name": "python3"
  },
  "language_info": {
   "codemirror_mode": {
    "name": "ipython",
    "version": 3
   },
   "file_extension": ".py",
   "mimetype": "text/x-python",
   "name": "python",
   "nbconvert_exporter": "python",
   "pygments_lexer": "ipython3",
   "version": "3.13.0"
  }
 },
 "nbformat": 4,
 "nbformat_minor": 2
}
