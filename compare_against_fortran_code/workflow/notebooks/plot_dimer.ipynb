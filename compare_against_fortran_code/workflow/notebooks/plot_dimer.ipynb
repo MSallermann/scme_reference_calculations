{
 "cells": [
  {
   "cell_type": "code",
   "execution_count": null,
   "metadata": {},
   "outputs": [],
   "source": [
    "import matplotlib.pyplot as plt\n",
    "import pandas as pd\n",
    "import numpy as np\n",
    "from ase.units import Bohr\n",
    "from pathlib import Path"
   ]
  },
  {
   "cell_type": "code",
   "execution_count": null,
   "metadata": {},
   "outputs": [],
   "source": [
    "results_dimer_folder = Path(\n",
    "    \"/home/moritz/SCME/scme_reference_calculations/compare_against_fortran_code/results/dimer\"\n",
    ")\n",
    "scme_truth = pd.read_json(results_dimer_folder / \"scme_truth.json\")\n",
    "\n",
    "results = pd.read_json(results_dimer_folder / \"results.json\")\n",
    "\n",
    "results_dimer_old_folder = Path(\n",
    "    \"/home/moritz/SCME/scme_reference_calculations/compare_against_fortran_code/results/dimer_old\"\n",
    ")\n",
    "results_old = pd.read_json(results_dimer_old_folder / \"results.json\")\n",
    "\n",
    "plot_dir = Path(\"./plots/dimer\")\n",
    "plot_dir.mkdir(exist_ok=True, parents=True)"
   ]
  },
  {
   "cell_type": "code",
   "execution_count": null,
   "metadata": {},
   "outputs": [],
   "source": [
    "dipoles_dimer = []\n",
    "quadrupoles_dimer = []\n",
    "samples = []\n",
    "\n",
    "for p in results_dimer_folder.glob(\"[0-9]*\"):\n",
    "    sample = int(p.name)\n",
    "    d = np.load(p / \"dipoles.npy\")\n",
    "    q = np.load(p / \"quadrupoles.npy\")\n",
    "    dipoles_dimer.append(d)\n",
    "    quadrupoles_dimer.append(q)\n",
    "    samples.append(sample)\n",
    "\n",
    "dipoles_dimer = np.array(dipoles_dimer)\n",
    "quadrupoles_dimer = np.array(quadrupoles_dimer)\n",
    "\n",
    "dipoles_dimer = dipoles_dimer[np.argsort(samples)]\n",
    "quadrupoles_dimer = quadrupoles_dimer[np.argsort(samples)]"
   ]
  },
  {
   "cell_type": "markdown",
   "metadata": {},
   "source": [
    "# Plot the total potential energy"
   ]
  },
  {
   "cell_type": "code",
   "execution_count": null,
   "metadata": {},
   "outputs": [],
   "source": [
    "ax = plt.gca()\n",
    "ax.plot(scme_truth[\"sample\"], scme_truth[\"energy\"], marker=\"o\", ms=9, label=\"fortran\")\n",
    "ax.plot(\n",
    "    results_old[\"sample\"],\n",
    "    results_old[\"energy_tot\"],\n",
    "    ls=\"None\",\n",
    "    marker=\"s\",\n",
    "    label=\"old_cpp\",\n",
    ")\n",
    "std = np.std(results[\"energy_tot\"] - scme_truth[\"energy\"])\n",
    "print(f\"{std = }\")\n",
    "\n",
    "ax.set_title(\"Dimer energy.\")\n",
    "ax.plot(results[\"sample\"], results[\"energy_tot\"], ls=\"None\", marker=\".\", label=\"moritz\")\n",
    "ax.set_xlabel(\"sample\")\n",
    "ax.set_ylabel(\"energy [eV]\")\n",
    "ax.legend()\n",
    "plt.tight_layout()\n",
    "plt.savefig(plot_dir / \"energy.png\", dpi=300)\n",
    "plt.show()\n",
    "plt.close()"
   ]
  },
  {
   "cell_type": "markdown",
   "metadata": {},
   "source": [
    "# Plot the components of the total dipole moment"
   ]
  },
  {
   "cell_type": "code",
   "execution_count": null,
   "metadata": {},
   "outputs": [],
   "source": [
    "for comp in [0, 1, 2]:\n",
    "    ax = plt.gca()\n",
    "    ax.set_title(f\"Total dipole moment component {comp+1}\")\n",
    "\n",
    "    d_truth = np.array([d[0][comp] + d[1][comp] for d in scme_truth[\"dipole\"]])\n",
    "    d_res = [d[comp] for d in results[\"dipole\"]]\n",
    "    d_res_old = [d[comp] / Bohr for d in results_old[\"dipole\"]]\n",
    "\n",
    "    std = np.std(d_truth - d_res)\n",
    "    print(f\"{std = }\")\n",
    "\n",
    "    ax.plot(\n",
    "        scme_truth[\"sample\"],\n",
    "        d_truth,\n",
    "        marker=\"o\",\n",
    "        ms=9,\n",
    "        label=\"fortran\",\n",
    "    )\n",
    "    ax.plot(\n",
    "        results[\"sample\"],\n",
    "        d_res,\n",
    "        marker=\"s\",\n",
    "        label=\"old_cpp\",\n",
    "    )\n",
    "    ax.plot(\n",
    "        results_old[\"sample\"],\n",
    "        d_res_old,\n",
    "        marker=\".\",\n",
    "        label=\"moritz\",\n",
    "    )\n",
    "    ax.set_ylabel(r\"$\\mu_{\" + str(comp + 1) + \"}~[e a_0]$\")\n",
    "    ax.set_xlabel(\"sample\")\n",
    "    plt.legend()\n",
    "    plt.tight_layout()\n",
    "    plt.savefig(plot_dir / f\"dms_component_{comp}.png\", dpi=300)\n",
    "    plt.show()\n",
    "    plt.close()"
   ]
  },
  {
   "cell_type": "markdown",
   "metadata": {},
   "source": [
    "# Plot the components of the total quadrupole moment"
   ]
  },
  {
   "cell_type": "code",
   "execution_count": null,
   "metadata": {},
   "outputs": [],
   "source": [
    "for comp1 in [0, 1, 2]:\n",
    "    for comp2 in [0, 1, 2]:\n",
    "        ax = plt.gca()\n",
    "        ax.set_title(f\"Total quadrupole moment component {comp1+1} {comp2+1}\")\n",
    "\n",
    "        q_truth = np.array(\n",
    "            [q[0][comp1][comp2] + q[1][comp1][comp2] for q in scme_truth[\"quadrupole\"]]\n",
    "        )\n",
    "\n",
    "        q_res_old = np.array(\n",
    "            [q[comp1][comp2] / Bohr**2 for q in results_old[\"quadrupole\"]]\n",
    "        )\n",
    "        q_res = np.array([q[comp1][comp2] for q in results[\"quadrupole\"]])\n",
    "\n",
    "        std = np.std(q_truth - q_res)\n",
    "        print(f\"{std = }\")\n",
    "\n",
    "        ax.plot(\n",
    "            scme_truth[\"sample\"],\n",
    "            q_truth,\n",
    "            marker=\"o\",\n",
    "            ms=9,\n",
    "            label=\"fortran\",\n",
    "        )\n",
    "        ax.plot(\n",
    "            results_old[\"sample\"],\n",
    "            q_res_old,\n",
    "            marker=\"s\",\n",
    "            label=\"old_cpp\",\n",
    "        )\n",
    "        ax.plot(\n",
    "            results[\"sample\"],\n",
    "            q_res,\n",
    "            marker=\".\",\n",
    "            label=\"moritz\",\n",
    "        )\n",
    "        ax.set_ylabel(r\"$\\theta_{\" + str(comp1 + 1) + str(comp2 + 1) + \"}~[e a_0^2]$\")\n",
    "        ax.set_xlabel(\"sample\")\n",
    "        plt.legend()\n",
    "        plt.tight_layout()\n",
    "        plt.savefig(plot_dir / f\"qms_component_{comp1}_{comp2}.png\", dpi=300)\n",
    "        plt.show()\n",
    "        plt.close()"
   ]
  },
  {
   "cell_type": "markdown",
   "metadata": {},
   "source": [
    "# Plot the individual dipole moments"
   ]
  },
  {
   "cell_type": "code",
   "execution_count": null,
   "metadata": {},
   "outputs": [],
   "source": [
    "for i_atom in range(2):\n",
    "    for comp in [0, 1, 2]:\n",
    "        ax = plt.gca()\n",
    "        ax.set_title(f\"Dipole moment atom {i_atom+1}, component {comp+1}\")\n",
    "\n",
    "        d_truth = [d[i_atom][comp] for d in scme_truth[\"dipole\"]]\n",
    "        d_res = dipoles_dimer[:, i_atom, comp]\n",
    "\n",
    "        ax.plot(\n",
    "            scme_truth[\"sample\"], d_truth, marker=\"o\", ms=9, label=\"fortran\", color=\"C0\"\n",
    "        )\n",
    "\n",
    "        ax.plot(results[\"sample\"], d_res, marker=\".\", label=\"moritz\", color=\"C2\")\n",
    "\n",
    "        ax.set_ylabel(r\"$\\mu_{\" + str(comp + 1) + \"}~[e a_0]$\")\n",
    "        ax.set_xlabel(\"sample\")\n",
    "        plt.legend()\n",
    "        plt.tight_layout()\n",
    "        plt.savefig(plot_dir / f\"dms_component_atom_{i_atom}_{comp}.png\", dpi=300)\n",
    "        plt.show()\n",
    "        plt.close()"
   ]
  },
  {
   "cell_type": "markdown",
   "metadata": {},
   "source": [
    "# Plot individual quadrupole moments"
   ]
  },
  {
   "cell_type": "code",
   "execution_count": null,
   "metadata": {},
   "outputs": [],
   "source": [
    "for i_atom in range(2):\n",
    "    for comp1 in [0, 1, 2]:\n",
    "        for comp2 in [0, 1, 2]:\n",
    "            ax = plt.gca()\n",
    "            ax.set_title(\n",
    "                f\"Quadrupole moment atom {i_atom+1}, component {comp1+1} {comp2+1}\"\n",
    "            )\n",
    "\n",
    "            q_truth = np.array(\n",
    "                [q[i_atom][comp1][comp2] for q in scme_truth[\"quadrupole\"]]\n",
    "            )\n",
    "            q_res = quadrupoles_dimer[:, i_atom, comp1, comp2]\n",
    "\n",
    "            ax.plot(\n",
    "                scme_truth[\"sample\"],\n",
    "                q_truth,\n",
    "                marker=\"o\",\n",
    "                ms=9,\n",
    "                label=\"fortran\",\n",
    "                color=\"C0\",\n",
    "            )\n",
    "\n",
    "            ax.plot(results[\"sample\"], q_res, marker=\".\", label=\"moritz\", color=\"C2\")\n",
    "\n",
    "            ax.set_ylabel(r\"$\\mu_{\" + str(comp + 1) + \"}~[e a_0]$\")\n",
    "            ax.set_xlabel(\"sample\")\n",
    "            plt.legend()\n",
    "            plt.tight_layout()\n",
    "            plt.savefig(plot_dir / f\"qms_component_atom_{i_atom}_{comp}.png\", dpi=300)\n",
    "            plt.show()\n",
    "            plt.close()"
   ]
  }
 ],
 "metadata": {
  "kernelspec": {
   "display_name": "Python 3",
   "language": "python",
   "name": "python3"
  },
  "language_info": {
   "codemirror_mode": {
    "name": "ipython",
    "version": 3
   },
   "file_extension": ".py",
   "mimetype": "text/x-python",
   "name": "python",
   "nbconvert_exporter": "python",
   "pygments_lexer": "ipython3",
   "version": "3.13.0"
  }
 },
 "nbformat": 4,
 "nbformat_minor": 2
}
